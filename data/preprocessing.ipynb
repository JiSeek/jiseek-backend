{
 "cells": [
  {
   "cell_type": "code",
   "execution_count": 1,
   "metadata": {},
   "outputs": [],
   "source": [
    "import pandas as pd"
   ]
  },
  {
   "cell_type": "code",
   "execution_count": 38,
   "metadata": {},
   "outputs": [],
   "source": [
    "data = pd.read_excel(\"./integrate_food_ingredient.xlsx\", header=3)\n",
    "data_onlyfood = data[data[\"DB군\"] == \"음식\"]"
   ]
  },
  {
   "cell_type": "code",
   "execution_count": 39,
   "metadata": {},
   "outputs": [
    {
     "name": "stdout",
     "output_type": "stream",
     "text": [
      "<class 'pandas.core.frame.DataFrame'> <class 'pandas.core.frame.DataFrame'>\n"
     ]
    }
   ],
   "source": [
    "print(type(data), type(data_onlyfood))"
   ]
  },
  {
   "cell_type": "code",
   "execution_count": null,
   "metadata": {},
   "outputs": [],
   "source": [
    "sort_df = pd.Series(data.columns)\n",
    "sort_df.to_csv(\"food_index.csv\", sep=\",\", index=False)"
   ]
  },
  {
   "cell_type": "code",
   "execution_count": 34,
   "metadata": {},
   "outputs": [
    {
     "name": "stdout",
     "output_type": "stream",
     "text": [
      "33 274 93 400\n"
     ]
    }
   ],
   "source": [
    "foods = \"쌀밥,오곡밥,콩밥,보리밥, 영양돌솥밥,감자밥,곤드레밥,김치볶음밥, 멸치주먹밥, 볶음밥,비빔밥,전주비빔밥,삼선볶음밥,새우볶음밥,알밥,약초비빔밥,오므라이스,육회비빔밥,해물볶음밥,열무비빔밥,류산슬덮밥,불고기덮밥,소고기국밥,송이덮밥,오징어덮밥,자장밥,잡채밥,잡탕밥,장어덮밥,제육덮밥,짬뽕밥,참치덮밥,카레라이스,전주콩나물국밥,해물덮밥,회덮밥,안성국밥,돼지국밥,김치김밥,농어초밥,문어,초밥,새우초밥,새우튀김롤,샐러드김밥,광어초밥,소고기,김밥,갈비삼각김밥,연어롤,연어초밥,유부초밥,장어초밥,참치김밥,참치마요삼각김밥,충무김밥,치즈김밥,캘리포니아롤,한치초밥,간자장,굴짬뽕,기스면,김치라면,김치우동,김치말이국수,닭칼국수,들깨칼국수,떡라면,라면,막국수,메밀국수,물냉면,비빔국수,비빔냉면,삼선우동,삼선자장면,삼선짬뽕,수제비,쌀국수,열무김치국수,열무냉면,오일소스스파게티,일식우동,중식우동,울면,자장면,잔치국수,짬뽕,짬뽕라면,쫄면,치즈라면,콩국수,크림소스스파게티,토마토소스스파게티,해물칼국수,회냉면,떡국,떡만둣국,고기만두,군만두,김치만두,물만두,만둣국,게살죽,깨죽,닭죽,소고기버섯죽,어죽,잣국,전복죽,참치죽,채소죽,팥죽,호박죽,콘스프,토마토스프,굴국,김치국,달걀국,감자국,미역국,바지락조개국,소고기무국,소고기미역국,소머리국밥,순대국,어묵국,오징어국,토란국,탕국,홍합미역국,황태해장국,근대된장국,미소된장국,배추된장국,뼈다귀해장국, 선지해장국,선짓국,시금치된장국,시래기된장국,쑥된장국,아욱된장국,우거지된장국,우거지해장국,우렁된장국,갈낙탕,갈비탕,감자탕,곰탕,매운탕,꼬리곰탕,꽃게탕,낙지탕,내장탕,닭곰탕,닭볶음탕,지리탕, 도가니탕,삼계탕,설렁탕,아구탕,알탕,연포탕,오리탕,추어탕,해물탕,닭개장,육개장,미역오이냉국,고등어찌개,꽁치찌개 ,동태찌개,부대찌개,된장찌개,청국장찌개,두부전골,곱창전골,소고기전골,국수전골, 김치찌개,버섯찌개,새우젓두부찌개,순두부찌개,콩비지찌개,햄김치찌개,호박찌개,대구찜,도미찜,동태찜,문어숙회,민어찜,병어찜,북어찜,아귀찜,전어찜,조기찜,참꼬막,해물찜,홍어찜,닭갈비,닭꼬치,돼지갈비,떡갈비,불고기,소곱창구이,소양념갈비구이,소불고기,양념왕갈비,햄버거스테이크,훈제오리,치킨데리야끼,치킨윙,더덕구이,양배추구이,두부구이, 가자미전,굴전,동태전,해물파전,동그랑땡,햄부침,육전,감자전,고추전,김치전,깻잎전,녹두빈대떡,미나리전,배추전,버섯전,부추전,야채전,파전,호박부침개,호박전,달걀말이,두부부침,두부전,건새우볶음,낙지볶음,멸치볶음,어묵볶음,오징어볶음,오징어채볶음,주꾸미볶음,해물볶음,감자볶음,김치볶음,깻잎나물볶음,느타리버섯볶음,두부김치,머위나물볶음,양송이버섯볶음,표고버섯볶음,고추잡채,호박볶음,돼지고기볶음,돼지껍데기볶음,소세지볶음,순대볶음,오리불고기,오삼불고기,떡볶이,라볶이,마파두부,가자미조림,갈치조림,고등어조림,꽁치조림,동태조림,북어조림,조기조림,코다리조림,달걀장조림,메추리알장조림,돼지고기메추리알장조림,소고기메추리알장조림,고추조림,연근조림,우엉조림,알감자조림,두부간장조림,콩조림,두부고추장조림,땅콩조림,미꾸라지튀김,새우튀김,생선가스,쥐포튀김,오징어튀김,닭강정,닭튀김,돈가스,모래집튀김,양념치킨, 치즈돈가스,치킨가스,탕수육,깐풍기,감자튀김,고구마맛탕,고구마튀김,고추튀김,김말이튀김,채소튀김,노각무침,단무지무침,달래나물무침,더덕무침,도라시생채,도토리묵,마늘쫑무침,무생채,부추무침,오이생채,파무침,상추겉절이,쑥갓나물무침,청포묵무침,해파리냉채,가지나물,고사리나물,도라지나물,무나물,미나리나물,숙주나물,시금치나물,취나물,콩나물,고구마줄기나물,우거지나물무침,골뱅이무침,김무침,미역초무침,북어채무침,회무침,쥐치채,파래무침,홍어무침,잡채,탕평채,갓김치,고들빼기,깍두기,깻잎김치,나박김치,동치미,배추겉절이,배추김치,백김치,부추김치,열무김치, 열무얼갈이김치,오이소박이,총각김치,파김치,간장게장,마늘쫑장아찌,고추장아찌,깻잎장아찌,마늘장아찌,무장아찌,양념게장,양파장아찌,오이지,무피클,오이피클,단무지,오징어젓갈,명란젓,물회,생선물회,오징어물회,광어회,훈제연어,육회,육사시미,가래떡,경단,꿀떡,시루떡,메밀전병,찰떡,무지개떡,백설기,송편,수수부꾸미,수수팥떡,쑥떡,약식,인절미, 절편,증편,찹쌀떡,매작과,다식,약과,유과,산자,깨강정\"\n",
    "food_list = [a.strip() for a in foods.split(\",\")]\n",
    "# food_df = pd.DataFrame(food_list)\n",
    "# food_df.to_csv(\"food_list.csv\", sep=\"|\")\n",
    "shape_list = []\n",
    "for food in food_list:\n",
    "    tmp = data[data[\"식품명\"].str.contains(food)]\n",
    "    shape_list.append((food, tmp.shape[0]))\n",
    "cnt_0 = []\n",
    "cnt_1 = []\n",
    "cnt_2 = []\n",
    "for name, cnt in shape_list:\n",
    "    if cnt == 0:\n",
    "        cnt_0.append(name)\n",
    "    if cnt == 1:\n",
    "        cnt_1.append(name)\n",
    "    if cnt > 1:\n",
    "        cnt_2.append(name)\n",
    "print(len(cnt_0),len(cnt_1),len(cnt_2), len(cnt_0)+len(cnt_1)+len(cnt_2))"
   ]
  },
  {
   "cell_type": "code",
   "execution_count": 40,
   "metadata": {},
   "outputs": [
    {
     "name": "stderr",
     "output_type": "stream",
     "text": [
      "/var/folders/tq/74y1x7vj7wv3ynpk3wqsd0pw0000gn/T/ipykernel_14094/1793146490.py:43: SettingWithCopyWarning: \n",
      "A value is trying to be set on a copy of a slice from a DataFrame.\n",
      "Try using .loc[row_indexer,col_indexer] = value instead\n",
      "\n",
      "See the caveats in the documentation: https://pandas.pydata.org/pandas-docs/stable/user_guide/indexing.html#returning-a-view-versus-a-copy\n",
      "  tmp[\"식품명\"] = food\n"
     ]
    },
    {
     "data": {
      "text/plain": [
       "(34, 241)"
      ]
     },
     "execution_count": 40,
     "metadata": {},
     "output_type": "execute_result"
    }
   ],
   "source": [
    "alternative_foods = {\n",
    "    \"쌀밥\":\"밥맛좋은 쌀밥\",\n",
    "    \"곤드레밥\":\"건곤드레밥\",\n",
    "    \"전주비빔밥\":\"전주비빔밥A\",\n",
    "    '열무비빔밥':'열무비빔밥', \n",
    "    \"전주콩나물국밥\":\"콩나물국밥\",\n",
    "    \"안성국밥\":\"장터국밥\",\n",
    "    \"광어초밥\": \"생선초밥(광어)\",\n",
    "    '갈비삼각김밥':'삼각김밥, 숯불갈비',  \n",
    "    \"일식우동\":\"우동(일식)\",\n",
    "    \"중식우동\":\"우동(중식)\",\n",
    "    '토마토스프':'토마토스프', \n",
    "    '소머리국밥':'소머리국밥', \n",
    "    \"소곱창구이\":\"쇠곱창구이\",\n",
    "    \"햄버거스테이크\":\"햄버거스테이크\",\n",
    "    \"양배추구이\":\"양배추, 데친것\",\n",
    "    \"육전\":\"떡갈비\", \n",
    "    \"알감자조림\":\"감자조림\",\n",
    "    \"두부간장조림\":\"두부조림\",\n",
    "    \"두부고추장조림\":\"두부조림\",\n",
    "    \"생선가스\":\"생선까스\",\n",
    "    \"치킨가스\":\"치킨까스\",\n",
    "    \"도라시생채\":\"도라지생채\",\n",
    "    \"무피클\":\"치킨무\",\n",
    "    '오이피클':'오이 피클, 초절임', \n",
    "    '오징어젓갈':'오징어젓갈', \n",
    "    \"명란젓\":\"명태젓, 명란젓, 양념, 염절임\",\n",
    "    \"광어회\":\"넙치(광어), 생것\",\n",
    "    \"훈제연어\":\"연어, 훈제\",\n",
    "    \"육사시미\":\"소고기, 한우(1++등급), 우둔(우둔살), 생것\",\n",
    "    \"깨강정\":\"들깨강정\"\n",
    "}\n",
    "\n",
    "못찾음 = {\n",
    "    # 그나마 비슷...\n",
    "    '감자밥':'', \n",
    "    '들깨칼국수':'', \n",
    "    '국수전골':''\n",
    "}\n",
    "\n",
    "df = data.loc[[0],:]\n",
    "for food, name in alternative_foods.items():\n",
    "    tmp = data[data[\"식품명\"] == name]\n",
    "    tmp[\"식품명\"] = food\n",
    "    df = df.append(tmp)\n",
    "df.drop(0, axis=0, inplace=True)\n",
    "df.to_csv(\"nutritions(0).csv\", sep=\"|\")\n",
    "df.shape"
   ]
  },
  {
   "cell_type": "code",
   "execution_count": 43,
   "metadata": {},
   "outputs": [
    {
     "name": "stderr",
     "output_type": "stream",
     "text": [
      "/var/folders/tq/74y1x7vj7wv3ynpk3wqsd0pw0000gn/T/ipykernel_14094/2736928366.py:4: SettingWithCopyWarning: \n",
      "A value is trying to be set on a copy of a slice from a DataFrame.\n",
      "Try using .loc[row_indexer,col_indexer] = value instead\n",
      "\n",
      "See the caveats in the documentation: https://pandas.pydata.org/pandas-docs/stable/user_guide/indexing.html#returning-a-view-versus-a-copy\n",
      "  tmp[\"식품명\"] = food\n"
     ]
    },
    {
     "data": {
      "text/plain": [
       "(274, 241)"
      ]
     },
     "execution_count": 43,
     "metadata": {},
     "output_type": "execute_result"
    }
   ],
   "source": [
    "df = data_onlyfood[data_onlyfood[\"식품명\"].str.contains(cnt_1[0])]\n",
    "for food in cnt_1[1:]:\n",
    "    tmp = data_onlyfood[data_onlyfood[\"식품명\"].str.contains(food)]\n",
    "    tmp[\"식품명\"] = food\n",
    "    df = df.append(tmp)\n",
    "df.to_csv(\"nutritions(1).csv\", sep=\"|\")\n",
    "df.shape"
   ]
  },
  {
   "cell_type": "code",
   "execution_count": 53,
   "metadata": {},
   "outputs": [
    {
     "name": "stdout",
     "output_type": "stream",
     "text": [
      "49\n"
     ]
    },
    {
     "data": {
      "text/plain": [
       "(44, 241)"
      ]
     },
     "execution_count": 53,
     "metadata": {},
     "output_type": "execute_result"
    }
   ],
   "source": [
    "df = data.loc[[0],:]\n",
    "cnt_2_1 = []\n",
    "for name in cnt_2:\n",
    "    tmp = data[data[\"식품명\"] == name]\n",
    "    if tmp.shape[0] == 1:\n",
    "        df = df.append(tmp)\n",
    "    else:\n",
    "        cnt_2_1.append(name)\n",
    "df.drop(0, axis=0, inplace=True)\n",
    "df.to_csv(\"nutritions(2).csv\", sep=\"|\")\n",
    "print(len(cnt_2_1))\n",
    "df.shape"
   ]
  },
  {
   "cell_type": "code",
   "execution_count": 55,
   "metadata": {},
   "outputs": [
    {
     "name": "stdout",
     "output_type": "stream",
     "text": [
      "24\n"
     ]
    },
    {
     "data": {
      "text/plain": [
       "(25, 241)"
      ]
     },
     "execution_count": 55,
     "metadata": {},
     "output_type": "execute_result"
    }
   ],
   "source": [
    "df = data.loc[[0],:]\n",
    "cnt_2_2 = []\n",
    "for name in cnt_2_1:\n",
    "    tmp = data_onlyfood[data_onlyfood[\"식품명\"] == name]\n",
    "    if tmp.shape[0] == 1:\n",
    "        df = df.append(tmp)\n",
    "    else:\n",
    "        cnt_2_2.append(name)\n",
    "df.drop(0, axis=0, inplace=True)\n",
    "df.to_csv(\"nutritions(2)-1.csv\", sep=\"|\")\n",
    "print(len(cnt_2_2))\n",
    "df.shape"
   ]
  },
  {
   "cell_type": "code",
   "execution_count": 59,
   "metadata": {},
   "outputs": [
    {
     "name": "stderr",
     "output_type": "stream",
     "text": [
      "/var/folders/tq/74y1x7vj7wv3ynpk3wqsd0pw0000gn/T/ipykernel_14094/3657292275.py:35: SettingWithCopyWarning: \n",
      "A value is trying to be set on a copy of a slice from a DataFrame.\n",
      "Try using .loc[row_indexer,col_indexer] = value instead\n",
      "\n",
      "See the caveats in the documentation: https://pandas.pydata.org/pandas-docs/stable/user_guide/indexing.html#returning-a-view-versus-a-copy\n",
      "  tmp[\"식품명\"] = food\n",
      "/var/folders/tq/74y1x7vj7wv3ynpk3wqsd0pw0000gn/T/ipykernel_14094/3657292275.py:39: SettingWithCopyWarning: \n",
      "A value is trying to be set on a copy of a slice from a DataFrame.\n",
      "Try using .loc[row_indexer,col_indexer] = value instead\n",
      "\n",
      "See the caveats in the documentation: https://pandas.pydata.org/pandas-docs/stable/user_guide/indexing.html#returning-a-view-versus-a-copy\n",
      "  tmp[\"식품명\"] = food\n"
     ]
    },
    {
     "data": {
      "text/plain": [
       "(24, 241)"
      ]
     },
     "execution_count": 59,
     "metadata": {},
     "output_type": "execute_result"
    }
   ],
   "source": [
    "non_food = {\n",
    "    '문어':'문어, 삶은것',\n",
    "    '소고기':'소고기, 한우(1++등급), 등심, 생것',\n",
    "}\n",
    "alternative_foods2 = {\n",
    "    '콩밥':'완두콩밥',\n",
    "    '비빔밥':'비빔밥',\n",
    "    '초밥':'생선초밥(모듬)',\n",
    "    '막국수':'막국수',\n",
    "    '곰탕':'곰탕',\n",
    "    '매운탕':'해물매운탕',\n",
    "    '닭곰탕':'닭곰탕',\n",
    "    '지리탕':'복지리탕',\n",
    "    '추어탕':'추어탕',\n",
    "    '부대찌개':'부대찌개',\n",
    "    '곱창전골':'소곱창전골',\n",
    "    '닭갈비':'닭갈비',\n",
    "    '소불고기':'쇠불고기',\n",
    "    '메추리알장조림':'메추리알 장조림',\n",
    "    '돈가스':'등심돈까스',\n",
    "    '감자튀김':'감자튀김',\n",
    "    '김말이튀김':'김말이튀김',\n",
    "    '무나물':'무나물무침',\n",
    "    '마늘쫑장아찌':'간장마늘쫑장아찌',\n",
    "    '경단':'참깨경단',\n",
    "    '찰떡':'모듬찰떡',\n",
    "    '송편':'깨송편',\n",
    "}\n",
    "\n",
    "df = data.loc[[0],:]\n",
    "data_repr = data_onlyfood[data_onlyfood[\"지역 / 제조사\"] == \"전국(대표)\"]\n",
    "data_repr\n",
    "for food, name in alternative_foods2.items():\n",
    "    tmp = data_repr[data_repr[\"식품명\"] == name]\n",
    "    tmp[\"식품명\"] = food\n",
    "    df = df.append(tmp)\n",
    "for food, name in non_food.items():\n",
    "    tmp = data[data[\"식품명\"] == name]\n",
    "    tmp[\"식품명\"] = food\n",
    "    df = df.append(tmp)\n",
    "df.drop(0, axis=0, inplace=True)\n",
    "df.to_csv(\"nutritions(2)-2.csv\", sep=\"|\")\n",
    "df.shape"
   ]
  },
  {
   "cell_type": "code",
   "execution_count": 66,
   "metadata": {},
   "outputs": [],
   "source": [
    "import os\n",
    "folder_list = os.listdir('./')\n",
    "food_df = pd.DataFrame()\n",
    "for file_path in list(filter(lambda x: x.startswith('nutritions'), folder_list)):\n",
    "    tmp = pd.read_csv(f\"./{file_path}\", sep=\"|\", index_col=False)\n",
    "    food_df = food_df.append(tmp)\n",
    "food_df.to_csv(\"food_df.csv\", index=False)\n",
    "    "
   ]
  },
  {
   "cell_type": "markdown",
   "metadata": {},
   "source": []
  },
  {
   "cell_type": "code",
   "execution_count": 132,
   "metadata": {},
   "outputs": [
    {
     "data": {
      "text/plain": [
       "(397, 27)"
      ]
     },
     "execution_count": 132,
     "metadata": {},
     "output_type": "execute_result"
    }
   ],
   "source": [
    "food_df = pd.read_csv(\"./food_df2.csv\")\n",
    "conut_df = pd.DataFrame(food_df.isnull().sum())\n",
    "drop_col_list = [\n",
    "       'Unnamed: 0', 'NO', 'SAMPLE_ID', '식품코드', 'DB군', '상용제품', '연도', '내용량_단위',\n",
    "       '지역 / 제조사', '채취시기', '식품대분류', '총내용량(g)', '갈락토오스(g)', '수용성 식이섬유(g)', \n",
    "       '불용성 식이섬유(g)', '철(㎎)', '철(㎍)',\n",
    "       '몰리브덴(㎍)', '요오드(㎍)', '비타민 D(D2+D3)(㎍)', '비타민 D2(㎍)', '비타민 D3(㎍)',\n",
    "       '비타민 E(㎎)', '알파 토코페롤(㎎)', '베타 토코페롤(㎎)', '감마 토코페롤(㎎)', '델타 토코페롤(㎎)',\n",
    "       '알파 토코트리에놀(㎎)', '베타 토코트리에놀(㎎)', '감마 토코트리에놀(㎎)', '델타 토코트리에놀(㎎)',\n",
    "       '비타민 K(㎍)', '비타민 K1(㎍)', '비타민 K2(㎍)', '나이아신(NE)(㎎)', '니코틴산 (㎎)',\n",
    "       '니코틴아마이드(㎎)', '판토텐산(㎎)', '비타민 B6(㎎)', '피리독신(㎎)', '비오틴(㎍)',\n",
    "       '엽산  천연 엽산(㎍)', '엽산  합성 엽산(㎍)', '트립토판(㎎)',\n",
    "       '비필수 아미노산(㎎)', '타우린(㎎)', '부티르산(4:0)(㎎)',\n",
    "       '카프로산(6:0)(㎎)', '카프릴산(8:0)(㎎)', '카프르산(10:0)(㎎)', '라우르산(12:0)(㎎)',\n",
    "       '트라이데칸산(13:0)(㎎)', '미리스트산(14:0)(㎎)', '펜타데칸산(15:0)(㎎)', '팔미트산(16:0)(㎎)',\n",
    "       '헵타데칸산(17:0)(㎎)', '스테아르산(18:0)(㎎)', '아라키드산(20:0)(㎎)', '헨에이코산산(21:0)(㎎)',\n",
    "       '베헨산(22:0)(㎎)', '트리코산산(23:0)(㎎)', '리그노세르산(24:0)(㎎)', '총 단일 불포화지방산(g)',\n",
    "       '미리스톨레산(14:1)(㎎)', '팔미톨레산(16:1)(㎎)', '헵타데센산(17:1)(㎎)',\n",
    "       '올레산(18:1(n9))(㎎)', '박센산(18:1(n7))(㎎)', '가돌레산(20:1)(㎎)',\n",
    "       '에루크산(22:1)(㎎)', '네르본산(24:1)(㎎)',\n",
    "       '이소류신(㎎)', '류신(㎎)', '라이신(㎎)', '메티오닌(㎎)',\n",
    "       '페닐알라닌(㎎)', '트레오닌(㎎)', '발린(㎎)', '히스티딘(㎎)', '아르기닌(㎎)', '티로신(㎎)',\n",
    "       '시스테인(㎎)', '알라닌(㎎)', '아스파르트산(㎎)', '글루탐산(㎎)', '글리신(㎎)', '프롤린(㎎)',\n",
    "       '세린(㎎)','아연(㎎)','구리(㎎)', '망간(㎎)', '셀레늄(㎍)',\n",
    "       '리놀레산(18:2(n6)c)(㎎)', '알파 리놀렌산(18:3(n3))(㎎)', '감마 리놀렌산(18:3(n6))(㎎)',\n",
    "       '에이코사디에노산(20:2(n6))(㎎)', '에이코사트리에노산(20:3(n3))(㎎)',\n",
    "       '에이코사트리에노산(20:3(n6))(㎎)', '아라키돈산(20:4(n6))(㎎)',\n",
    "       '레티놀(㎍)', '베타카로틴(㎍)', '토코페롤(㎎)', '토코트리에놀(㎎)',\n",
    "       '에이코사펜타에노산(20:5(n3))(㎎)', '도코사디에노산(22:2)(㎎)', '도코사펜타에노산(22:5(n3))(㎎)',\n",
    "       '도코사헥사에노산(22:6(n3))(㎎)', '오메가 3 지방산(g)', '오메가 6 지방산(g)',\n",
    "       '트랜스 올레산(18:1(n9)t)(㎎)', '트랜스 리놀레산 (18:2t)(㎎)', '트랜스 리놀렌산(18:3t)(㎎)',\n",
    "       '카프릴산(8:0)(g)', '카프르산(10:0)(g)', '라우르산(12:0)(g)', '미리스트산(14:0)(g)',\n",
    "       '팔미트산(16:0)(g)', '스테아르산(18:0)(g)', '아라키드산(20:0)(g)', '미리스톨레산(14:1)(g)',\n",
    "       '팔미톨레산(16:1)(g)', '올레산(18:1(n9))(g)', '박센산(18:1(n7))(g)',\n",
    "       '가돌레산(20:1)(g)', '리놀레산(18:2(n6)c)(g)', '알파 리놀렌산(18:3(n3))(g)',\n",
    "       '감마 리놀렌산(18:3(n6))(g)', '에이코사디에노산(20:2(n6))(g)',\n",
    "       '에이코사트리에노산(20:3(n6))(g)', '아라키돈산(20:4(n6))(g)', '나이아신(㎎)',\n",
    "       '엽산(DFE)(㎍)', '자당(g)', '포도당(g)', '과당(g)', '유당(g)', '맥아당(g)',\n",
    "       '에이코사펜타에노산(20:5(n3))(g)', '도코사펜타에노산(22:5(n3))(g)',\n",
    "       '도코사헥사에노산(22:6(n3))(g)', '부티르산(4:0)(g)', '카프로산(6:0)(g)',\n",
    "       '식염상당량(g)', '폐기율(%)', '성분표출처', '발행기관', '트랜스 올레산(18:1(n9)t)(g)',\n",
    "       '트랜스 리놀레산 (18:2t)(g)', '트랜스 리놀렌산(18:3t)(g)', '회분(g)']\n",
    "food_df.drop(columns=drop_col_list, inplace=True)\n",
    "food_df.drop(columns=list(conut_df[conut_df[0] == 397].index), inplace=True)\n",
    "food_df.shape"
   ]
  },
  {
   "cell_type": "code",
   "execution_count": 133,
   "metadata": {},
   "outputs": [
    {
     "data": {
      "text/plain": [
       "Index(['식품명', '식품상세분류', '1회제공량', '에너지(㎉)', '수분(g)', '단백질(g)', '지방(g)',\n",
       "       '탄수화물(g)', '총당류(g)', '총 식이섬유(g)', '칼슘(㎎)', '마그네슘(㎎)', '인(㎎)', '칼륨(㎎)',\n",
       "       '나트륨(㎎)', '비타민 B1(㎎)', '비타민 B2(㎎)', '비타민 B12(㎍)', '비타민 C(㎎)',\n",
       "       '총 아미노산(㎎)', '필수 아미노산(㎎)', '콜레스테롤(㎎)', '총 지방산(g)', '총 필수 지방산(g)',\n",
       "       '총 포화 지방산(g)', '총 다중 불포화지방산(g)', '트랜스 지방산(g)'],\n",
       "      dtype='object')"
      ]
     },
     "execution_count": 133,
     "metadata": {},
     "output_type": "execute_result"
    }
   ],
   "source": [
    "tmp_col = pd.DataFrame(food_df.isnull().sum())\n",
    "tmp_col.index"
   ]
  },
  {
   "cell_type": "code",
   "execution_count": null,
   "metadata": {},
   "outputs": [],
   "source": []
  }
 ],
 "metadata": {
  "interpreter": {
   "hash": "31f2aee4e71d21fbe5cf8b01ff0e069b9275f58929596ceb00d14d90e3e16cd6"
  },
  "kernelspec": {
   "display_name": "Python 3.8.2 64-bit",
   "language": "python",
   "name": "python3"
  },
  "language_info": {
   "codemirror_mode": {
    "name": "ipython",
    "version": 3
   },
   "file_extension": ".py",
   "mimetype": "text/x-python",
   "name": "python",
   "nbconvert_exporter": "python",
   "pygments_lexer": "ipython3",
   "version": "3.9.7"
  },
  "orig_nbformat": 4
 },
 "nbformat": 4,
 "nbformat_minor": 2
}
