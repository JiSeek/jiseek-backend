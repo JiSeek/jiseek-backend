{
 "cells": [
  {
   "cell_type": "code",
   "execution_count": 27,
   "metadata": {},
   "outputs": [],
   "source": [
    "import pandas as pd"
   ]
  },
  {
   "cell_type": "code",
   "execution_count": 42,
   "metadata": {},
   "outputs": [],
   "source": [
    "food_df = pd.read_csv(\"food_nutrient.csv\", sep=\"|\")\n",
    "food_series = food_df[\"식품명\"]\n",
    "food_series.to_csv(\"foods.csv\", index=False)\n",
    "food_dict = food_series.to_dict()\n",
    "food_list = list(food_series)"
   ]
  },
  {
   "cell_type": "code",
   "execution_count": null,
   "metadata": {},
   "outputs": [],
   "source": [
    "from google_images_download import google_images_download\n",
    "\n",
    "response = google_images_download.googleimagesdownload()\n",
    "arguments = {\n",
    "    \"keywords_from_file\": \"foods.csv\",\n",
    "    \"pk\": \"한식 \",\n",
    "    \"limit\": 3,\n",
    "    \"f\": \"png\",\n",
    "    \"nn\": \"-nn\"\n",
    "}\n",
    "\n",
    "response.download(arguments)"
   ]
  },
  {
   "cell_type": "code",
   "execution_count": null,
   "metadata": {},
   "outputs": [],
   "source": [
    "import os\n",
    "import boto3\n",
    "\n",
    "env = os.environ.get\n",
    "session = boto3.Session(\n",
    "    aws_access_key_id=env(\"AWS_ACCESS_KEY_ID\"),\n",
    "    aws_secret_access_key=env(\"AWS_SECRET_ACCESS_KEY\"),\n",
    ")\n",
    "\n",
    "s3 = session.client(\"s3\", region_name=\"ap-northeast-2\")"
   ]
  },
  {
   "cell_type": "code",
   "execution_count": null,
   "metadata": {},
   "outputs": [],
   "source": [
    "food_df[\"img1\"] = \"food\"\n",
    "food_df[\"img2\"] = \"food\"\n",
    "food_df[\"img3\"] = \"food\"\n",
    "\n",
    "for i in range(1, 401):\n",
    "    buck = s3.list_objects(Bucket=\"reviewkingwordcloud\", Prefix=f\"food/{i}/\")[\"Contents\"]\n",
    "    tmp_ = [b[\"Key\"] for b in buck]\n",
    "    tmp_name = food_dict[i-1]\n",
    "    food_df.loc[food_df[\"식품명\"]==tmp_name, (\"img1\", \"img2\", \"img3\")] = tmp_\n",
    "\n",
    "food_df.head()\n",
    "food_df.to_csv(\"food_nutrient_img.csv\", sep=\"|\", index=False)"
   ]
  },
  {
   "cell_type": "code",
   "execution_count": null,
   "metadata": {},
   "outputs": [],
   "source": []
  }
 ],
 "metadata": {
  "interpreter": {
   "hash": "0c739dded17e82211fc91bd6ae68ae997a5a2100d9872afccdd06b670b0123ab"
  },
  "kernelspec": {
   "display_name": "Python 3.9.7 64-bit ('delivery': conda)",
   "language": "python",
   "name": "python3"
  },
  "language_info": {
   "codemirror_mode": {
    "name": "ipython",
    "version": 3
   },
   "file_extension": ".py",
   "mimetype": "text/x-python",
   "name": "python",
   "nbconvert_exporter": "python",
   "pygments_lexer": "ipython3",
   "version": "3.9.7"
  },
  "orig_nbformat": 4
 },
 "nbformat": 4,
 "nbformat_minor": 2
}
